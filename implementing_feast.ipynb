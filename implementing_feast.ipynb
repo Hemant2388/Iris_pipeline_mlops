{
 "cells": [
  {
   "cell_type": "markdown",
   "id": "b01ca0c0-4038-4e78-876b-e4f9519df34d",
   "metadata": {
    "tags": []
   },
   "source": [
    "## Preparing the dataset for feast"
   ]
  },
  {
   "cell_type": "code",
   "execution_count": 1,
   "id": "327871db-7f57-40ac-a1b3-38af2261a3b9",
   "metadata": {
    "tags": []
   },
   "outputs": [],
   "source": [
    "import pandas as pd\n",
    "import numpy as np\n",
    "import os\n",
    "from datetime import datetime, timedelta"
   ]
  },
  {
   "cell_type": "code",
   "execution_count": 2,
   "id": "4fe02a14-223c-4b61-903d-bce1c6492921",
   "metadata": {
    "tags": []
   },
   "outputs": [],
   "source": [
    "df = pd.read_csv(\"data/iris.csv\")"
   ]
  },
  {
   "cell_type": "code",
   "execution_count": 3,
   "id": "a17394df-d00c-4a9c-802f-df5dd7b9f0f3",
   "metadata": {
    "tags": []
   },
   "outputs": [],
   "source": [
    "df[\"unique_identifier\"] = [f\"flower_{i+1}\" for i in range(len(df))]"
   ]
  },
  {
   "cell_type": "code",
   "execution_count": 4,
   "id": "821da8e3-892c-4e2b-b713-2d4712729609",
   "metadata": {
    "tags": []
   },
   "outputs": [],
   "source": [
    "now = datetime.now()\n",
    "df[\"event_timestamp\"] = [now - timedelta(minutes=i) for i in range(len(df))]"
   ]
  },
  {
   "cell_type": "code",
   "execution_count": 5,
   "id": "3e513a64-10a1-4abe-9c08-47335ab5bd05",
   "metadata": {
    "tags": []
   },
   "outputs": [],
   "source": [
    "df = df[[\"unique_identifier\", \"event_timestamp\"] + list(df.columns[:-2])]"
   ]
  },
  {
   "cell_type": "code",
   "execution_count": 6,
   "id": "42c80892-aabd-4385-8dde-74199bb8ac6f",
   "metadata": {
    "tags": []
   },
   "outputs": [],
   "source": [
    "species_to_id = {\n",
    "    'setosa': 0,\n",
    "    'versicolor': 1,\n",
    "    'virginica': 2\n",
    "}\n",
    "\n",
    "df[\"flower_id\"] = df[\"species\"].map(species_to_id)"
   ]
  },
  {
   "cell_type": "code",
   "execution_count": 7,
   "id": "a9576dbb-2a7b-4646-bf46-e1bb319d52ca",
   "metadata": {
    "tags": []
   },
   "outputs": [
    {
     "data": {
      "text/html": [
       "<div>\n",
       "<style scoped>\n",
       "    .dataframe tbody tr th:only-of-type {\n",
       "        vertical-align: middle;\n",
       "    }\n",
       "\n",
       "    .dataframe tbody tr th {\n",
       "        vertical-align: top;\n",
       "    }\n",
       "\n",
       "    .dataframe thead th {\n",
       "        text-align: right;\n",
       "    }\n",
       "</style>\n",
       "<table border=\"1\" class=\"dataframe\">\n",
       "  <thead>\n",
       "    <tr style=\"text-align: right;\">\n",
       "      <th></th>\n",
       "      <th>unique_identifier</th>\n",
       "      <th>event_timestamp</th>\n",
       "      <th>sepal_length</th>\n",
       "      <th>sepal_width</th>\n",
       "      <th>petal_length</th>\n",
       "      <th>petal_width</th>\n",
       "      <th>species</th>\n",
       "      <th>flower_id</th>\n",
       "    </tr>\n",
       "  </thead>\n",
       "  <tbody>\n",
       "    <tr>\n",
       "      <th>0</th>\n",
       "      <td>flower_1</td>\n",
       "      <td>2025-06-17 14:06:33.757091</td>\n",
       "      <td>5.1</td>\n",
       "      <td>3.5</td>\n",
       "      <td>1.4</td>\n",
       "      <td>0.2</td>\n",
       "      <td>setosa</td>\n",
       "      <td>0</td>\n",
       "    </tr>\n",
       "    <tr>\n",
       "      <th>1</th>\n",
       "      <td>flower_2</td>\n",
       "      <td>2025-06-17 14:05:33.757091</td>\n",
       "      <td>4.9</td>\n",
       "      <td>3.0</td>\n",
       "      <td>1.4</td>\n",
       "      <td>0.2</td>\n",
       "      <td>setosa</td>\n",
       "      <td>0</td>\n",
       "    </tr>\n",
       "    <tr>\n",
       "      <th>2</th>\n",
       "      <td>flower_3</td>\n",
       "      <td>2025-06-17 14:04:33.757091</td>\n",
       "      <td>4.7</td>\n",
       "      <td>3.2</td>\n",
       "      <td>1.3</td>\n",
       "      <td>0.2</td>\n",
       "      <td>setosa</td>\n",
       "      <td>0</td>\n",
       "    </tr>\n",
       "    <tr>\n",
       "      <th>3</th>\n",
       "      <td>flower_4</td>\n",
       "      <td>2025-06-17 14:03:33.757091</td>\n",
       "      <td>4.6</td>\n",
       "      <td>3.1</td>\n",
       "      <td>1.5</td>\n",
       "      <td>0.2</td>\n",
       "      <td>setosa</td>\n",
       "      <td>0</td>\n",
       "    </tr>\n",
       "    <tr>\n",
       "      <th>4</th>\n",
       "      <td>flower_5</td>\n",
       "      <td>2025-06-17 14:02:33.757091</td>\n",
       "      <td>5.0</td>\n",
       "      <td>3.6</td>\n",
       "      <td>1.4</td>\n",
       "      <td>0.2</td>\n",
       "      <td>setosa</td>\n",
       "      <td>0</td>\n",
       "    </tr>\n",
       "  </tbody>\n",
       "</table>\n",
       "</div>"
      ],
      "text/plain": [
       "  unique_identifier            event_timestamp  sepal_length  sepal_width  \\\n",
       "0          flower_1 2025-06-17 14:06:33.757091           5.1          3.5   \n",
       "1          flower_2 2025-06-17 14:05:33.757091           4.9          3.0   \n",
       "2          flower_3 2025-06-17 14:04:33.757091           4.7          3.2   \n",
       "3          flower_4 2025-06-17 14:03:33.757091           4.6          3.1   \n",
       "4          flower_5 2025-06-17 14:02:33.757091           5.0          3.6   \n",
       "\n",
       "   petal_length  petal_width species  flower_id  \n",
       "0           1.4          0.2  setosa          0  \n",
       "1           1.4          0.2  setosa          0  \n",
       "2           1.3          0.2  setosa          0  \n",
       "3           1.5          0.2  setosa          0  \n",
       "4           1.4          0.2  setosa          0  "
      ]
     },
     "execution_count": 7,
     "metadata": {},
     "output_type": "execute_result"
    }
   ],
   "source": [
    "df.head()"
   ]
  },
  {
   "cell_type": "code",
   "execution_count": 8,
   "id": "ac67962c-eebb-49a7-be8e-6f9880e0259d",
   "metadata": {
    "tags": []
   },
   "outputs": [],
   "source": [
    "df.to_csv(\"data/iris_feast_dataset.csv\", index=False)"
   ]
  },
  {
   "cell_type": "markdown",
   "id": "43427146-892c-44d9-a2e7-a27eb6f92ae0",
   "metadata": {},
   "source": [
    "## Initializing feast"
   ]
  },
  {
   "cell_type": "code",
   "execution_count": 9,
   "id": "a02be7ee-5abb-4cb9-86a3-ef05139d05ce",
   "metadata": {
    "tags": []
   },
   "outputs": [],
   "source": [
    "!pip install \"protobuf<6.0.0\" > {os.devnull} 2>&1"
   ]
  },
  {
   "cell_type": "code",
   "execution_count": 10,
   "id": "c795a2bb-eedc-4e91-a5fc-91fba7708070",
   "metadata": {
    "tags": []
   },
   "outputs": [],
   "source": [
    "!pip install feast > {os.devnull} 2>&1"
   ]
  },
  {
   "cell_type": "code",
   "execution_count": 11,
   "id": "0e5909f7-b870-41ee-812d-24cef56a2220",
   "metadata": {
    "tags": []
   },
   "outputs": [
    {
     "name": "stdout",
     "output_type": "stream",
     "text": [
      "Feast SDK Version: \"0.49.0\"\n"
     ]
    }
   ],
   "source": [
    "!feast version "
   ]
  },
  {
   "cell_type": "code",
   "execution_count": 12,
   "id": "f93d8aae-1d4f-4605-b89f-c94c25a5b6bf",
   "metadata": {
    "tags": []
   },
   "outputs": [
    {
     "name": "stdout",
     "output_type": "stream",
     "text": [
      "\n",
      "Creating a new Feast repository in \u001b[1m\u001b[32m/home/jupyter/iris_feast_project\u001b[0m.\n",
      "\n"
     ]
    }
   ],
   "source": [
    "!feast init iris_feast_project"
   ]
  },
  {
   "cell_type": "code",
   "execution_count": 13,
   "id": "34d92f3b-2693-45a7-9198-43390a95e52c",
   "metadata": {
    "tags": []
   },
   "outputs": [
    {
     "name": "stdout",
     "output_type": "stream",
     "text": [
      "/home/jupyter/iris_feast_project/feature_repo\n"
     ]
    },
    {
     "name": "stderr",
     "output_type": "stream",
     "text": [
      "/opt/conda/lib/python3.10/site-packages/IPython/core/magics/osm.py:417: UserWarning: using dhist requires you to install the `pickleshare` library.\n",
      "  self.shell.db['dhist'] = compress_dhist(dhist)[-100:]\n"
     ]
    }
   ],
   "source": [
    "cd iris_feast_project/feature_repo"
   ]
  },
  {
   "cell_type": "code",
   "execution_count": 14,
   "id": "36799753-86a5-4aa0-9e09-34c56bb4d8a6",
   "metadata": {
    "tags": []
   },
   "outputs": [
    {
     "data": {
      "text/plain": [
       "'/home/jupyter/iris_feast_project/feature_repo'"
      ]
     },
     "execution_count": 14,
     "metadata": {},
     "output_type": "execute_result"
    }
   ],
   "source": [
    "pwd"
   ]
  },
  {
   "cell_type": "code",
   "execution_count": 15,
   "id": "b8171bfd-0177-433f-85ea-38f260108bb4",
   "metadata": {
    "tags": []
   },
   "outputs": [],
   "source": [
    "df.to_parquet(path='data/df.parquet')"
   ]
  },
  {
   "cell_type": "markdown",
   "id": "13460e50-e85f-40c9-96ac-313b1a0df51c",
   "metadata": {},
   "source": [
    "## Applying feast"
   ]
  },
  {
   "cell_type": "code",
   "execution_count": 16,
   "id": "4a6e1a07-03a9-4d21-864f-313fc065b3af",
   "metadata": {
    "tags": []
   },
   "outputs": [],
   "source": [
    "!echo \".ipynb_checkpoints/\" >> .feastignore"
   ]
  },
  {
   "cell_type": "code",
   "execution_count": 17,
   "id": "cb4a59f8-5efd-4371-9eb6-ecccb3f9aee1",
   "metadata": {
    "tags": []
   },
   "outputs": [
    {
     "name": "stdout",
     "output_type": "stream",
     "text": [
      "/opt/conda/lib/python3.10/site-packages/pydantic/_internal/_fields.py:192: UserWarning: Field name \"vector_enabled\" in \"SqliteOnlineStoreConfig\" shadows an attribute in parent \"VectorStoreConfig\"\n",
      "  warnings.warn(\n",
      "/opt/conda/lib/python3.10/site-packages/feast/repo_config.py:268: DeprecationWarning: The serialization version 2 and below will be deprecated in the next release. Specifying `entity_key_serialization_version` to 3 is recommended.\n",
      "  warnings.warn(\n",
      "/home/jupyter/iris_feast_project/feature_repo/example_repo.py:16: DeprecationWarning: Entity value_type will be mandatory in the next release. Please specify a value_type for entity 'flower'.\n",
      "  flower = Entity(name=\"flower\", join_keys=[\"unique_identifier\"])\n",
      "No project found in the repository. Using project name iris_feast_project defined in feature_store.yaml\n",
      "Applying changes for project iris_feast_project\n",
      "Created project \u001b[1m\u001b[32miris_feast_project\u001b[0m\n",
      "Created entity \u001b[1m\u001b[32mflower\u001b[0m\n",
      "Created feature view \u001b[1m\u001b[32mdf_feature_view\u001b[0m\n",
      "\n",
      "06/17/2025 02:09:20 PM root WARNING: Cannot use sqlite_vec for vector search\n",
      "Created sqlite table \u001b[1m\u001b[32miris_feast_project_df_feature_view\u001b[0m\n",
      "\n"
     ]
    }
   ],
   "source": [
    "!feast apply"
   ]
  },
  {
   "cell_type": "markdown",
   "id": "18d7f6d3-4bbc-4bda-b17b-d8c286824baf",
   "metadata": {},
   "source": [
    "## Generating Training data from the offline store"
   ]
  },
  {
   "cell_type": "code",
   "execution_count": 18,
   "id": "1a33c6f9-0af1-4461-ac9c-34fecc693c46",
   "metadata": {
    "tags": []
   },
   "outputs": [
    {
     "name": "stderr",
     "output_type": "stream",
     "text": [
      "/opt/conda/lib/python3.10/site-packages/pydantic/_internal/_fields.py:192: UserWarning: Field name \"vector_enabled\" in \"SqliteOnlineStoreConfig\" shadows an attribute in parent \"VectorStoreConfig\"\n",
      "  warnings.warn(\n",
      "/opt/conda/lib/python3.10/site-packages/feast/repo_config.py:268: DeprecationWarning: The serialization version 2 and below will be deprecated in the next release. Specifying `entity_key_serialization_version` to 3 is recommended.\n",
      "  warnings.warn(\n"
     ]
    }
   ],
   "source": [
    "from feast import FeatureStore\n",
    "\n",
    "store = FeatureStore(repo_path='.')\n",
    "\n",
    "target_df = df[[\"unique_identifier\", \"event_timestamp\", \"flower_id\"]]\n",
    "\n",
    "training_data = store.get_historical_features(\n",
    "    entity_df=target_df,\n",
    "    features=[\n",
    "        \"df_feature_view:sepal_length\",\n",
    "        \"df_feature_view:sepal_width\",\n",
    "        \"df_feature_view:petal_length\",\n",
    "        \"df_feature_view:petal_width\",\n",
    "    ]\n",
    ")"
   ]
  },
  {
   "cell_type": "code",
   "execution_count": 19,
   "id": "dac12379-ac42-4e44-86f9-fd4f2473d3f2",
   "metadata": {
    "tags": []
   },
   "outputs": [
    {
     "data": {
      "text/html": [
       "<div>\n",
       "<style scoped>\n",
       "    .dataframe tbody tr th:only-of-type {\n",
       "        vertical-align: middle;\n",
       "    }\n",
       "\n",
       "    .dataframe tbody tr th {\n",
       "        vertical-align: top;\n",
       "    }\n",
       "\n",
       "    .dataframe thead th {\n",
       "        text-align: right;\n",
       "    }\n",
       "</style>\n",
       "<table border=\"1\" class=\"dataframe\">\n",
       "  <thead>\n",
       "    <tr style=\"text-align: right;\">\n",
       "      <th></th>\n",
       "      <th>unique_identifier</th>\n",
       "      <th>event_timestamp</th>\n",
       "      <th>flower_id</th>\n",
       "      <th>sepal_length</th>\n",
       "      <th>sepal_width</th>\n",
       "      <th>petal_length</th>\n",
       "      <th>petal_width</th>\n",
       "    </tr>\n",
       "  </thead>\n",
       "  <tbody>\n",
       "    <tr>\n",
       "      <th>0</th>\n",
       "      <td>flower_150</td>\n",
       "      <td>2025-06-17 11:37:33.757091+00:00</td>\n",
       "      <td>2</td>\n",
       "      <td>5.9</td>\n",
       "      <td>3.0</td>\n",
       "      <td>5.1</td>\n",
       "      <td>1.8</td>\n",
       "    </tr>\n",
       "    <tr>\n",
       "      <th>1</th>\n",
       "      <td>flower_149</td>\n",
       "      <td>2025-06-17 11:38:33.757091+00:00</td>\n",
       "      <td>2</td>\n",
       "      <td>6.2</td>\n",
       "      <td>3.4</td>\n",
       "      <td>5.4</td>\n",
       "      <td>2.3</td>\n",
       "    </tr>\n",
       "    <tr>\n",
       "      <th>2</th>\n",
       "      <td>flower_148</td>\n",
       "      <td>2025-06-17 11:39:33.757091+00:00</td>\n",
       "      <td>2</td>\n",
       "      <td>6.5</td>\n",
       "      <td>3.0</td>\n",
       "      <td>5.2</td>\n",
       "      <td>2.0</td>\n",
       "    </tr>\n",
       "    <tr>\n",
       "      <th>3</th>\n",
       "      <td>flower_147</td>\n",
       "      <td>2025-06-17 11:40:33.757091+00:00</td>\n",
       "      <td>2</td>\n",
       "      <td>6.3</td>\n",
       "      <td>2.5</td>\n",
       "      <td>5.0</td>\n",
       "      <td>1.9</td>\n",
       "    </tr>\n",
       "    <tr>\n",
       "      <th>4</th>\n",
       "      <td>flower_146</td>\n",
       "      <td>2025-06-17 11:41:33.757091+00:00</td>\n",
       "      <td>2</td>\n",
       "      <td>6.7</td>\n",
       "      <td>3.0</td>\n",
       "      <td>5.2</td>\n",
       "      <td>2.3</td>\n",
       "    </tr>\n",
       "    <tr>\n",
       "      <th>...</th>\n",
       "      <td>...</td>\n",
       "      <td>...</td>\n",
       "      <td>...</td>\n",
       "      <td>...</td>\n",
       "      <td>...</td>\n",
       "      <td>...</td>\n",
       "      <td>...</td>\n",
       "    </tr>\n",
       "    <tr>\n",
       "      <th>145</th>\n",
       "      <td>flower_5</td>\n",
       "      <td>2025-06-17 14:02:33.757091+00:00</td>\n",
       "      <td>0</td>\n",
       "      <td>5.0</td>\n",
       "      <td>3.6</td>\n",
       "      <td>1.4</td>\n",
       "      <td>0.2</td>\n",
       "    </tr>\n",
       "    <tr>\n",
       "      <th>146</th>\n",
       "      <td>flower_4</td>\n",
       "      <td>2025-06-17 14:03:33.757091+00:00</td>\n",
       "      <td>0</td>\n",
       "      <td>4.6</td>\n",
       "      <td>3.1</td>\n",
       "      <td>1.5</td>\n",
       "      <td>0.2</td>\n",
       "    </tr>\n",
       "    <tr>\n",
       "      <th>147</th>\n",
       "      <td>flower_3</td>\n",
       "      <td>2025-06-17 14:04:33.757091+00:00</td>\n",
       "      <td>0</td>\n",
       "      <td>4.7</td>\n",
       "      <td>3.2</td>\n",
       "      <td>1.3</td>\n",
       "      <td>0.2</td>\n",
       "    </tr>\n",
       "    <tr>\n",
       "      <th>148</th>\n",
       "      <td>flower_2</td>\n",
       "      <td>2025-06-17 14:05:33.757091+00:00</td>\n",
       "      <td>0</td>\n",
       "      <td>4.9</td>\n",
       "      <td>3.0</td>\n",
       "      <td>1.4</td>\n",
       "      <td>0.2</td>\n",
       "    </tr>\n",
       "    <tr>\n",
       "      <th>149</th>\n",
       "      <td>flower_1</td>\n",
       "      <td>2025-06-17 14:06:33.757091+00:00</td>\n",
       "      <td>0</td>\n",
       "      <td>5.1</td>\n",
       "      <td>3.5</td>\n",
       "      <td>1.4</td>\n",
       "      <td>0.2</td>\n",
       "    </tr>\n",
       "  </tbody>\n",
       "</table>\n",
       "<p>150 rows × 7 columns</p>\n",
       "</div>"
      ],
      "text/plain": [
       "    unique_identifier                  event_timestamp  flower_id  \\\n",
       "0          flower_150 2025-06-17 11:37:33.757091+00:00          2   \n",
       "1          flower_149 2025-06-17 11:38:33.757091+00:00          2   \n",
       "2          flower_148 2025-06-17 11:39:33.757091+00:00          2   \n",
       "3          flower_147 2025-06-17 11:40:33.757091+00:00          2   \n",
       "4          flower_146 2025-06-17 11:41:33.757091+00:00          2   \n",
       "..                ...                              ...        ...   \n",
       "145          flower_5 2025-06-17 14:02:33.757091+00:00          0   \n",
       "146          flower_4 2025-06-17 14:03:33.757091+00:00          0   \n",
       "147          flower_3 2025-06-17 14:04:33.757091+00:00          0   \n",
       "148          flower_2 2025-06-17 14:05:33.757091+00:00          0   \n",
       "149          flower_1 2025-06-17 14:06:33.757091+00:00          0   \n",
       "\n",
       "     sepal_length  sepal_width  petal_length  petal_width  \n",
       "0             5.9          3.0           5.1          1.8  \n",
       "1             6.2          3.4           5.4          2.3  \n",
       "2             6.5          3.0           5.2          2.0  \n",
       "3             6.3          2.5           5.0          1.9  \n",
       "4             6.7          3.0           5.2          2.3  \n",
       "..            ...          ...           ...          ...  \n",
       "145           5.0          3.6           1.4          0.2  \n",
       "146           4.6          3.1           1.5          0.2  \n",
       "147           4.7          3.2           1.3          0.2  \n",
       "148           4.9          3.0           1.4          0.2  \n",
       "149           5.1          3.5           1.4          0.2  \n",
       "\n",
       "[150 rows x 7 columns]"
      ]
     },
     "execution_count": 19,
     "metadata": {},
     "output_type": "execute_result"
    }
   ],
   "source": [
    "training_data.to_df()"
   ]
  },
  {
   "cell_type": "markdown",
   "id": "362788e8-d1e4-4971-a57a-83167bf75e6e",
   "metadata": {},
   "source": [
    "## Model Training "
   ]
  },
  {
   "cell_type": "code",
   "execution_count": 20,
   "id": "4fdab500-b74a-4986-94b1-95d7feae806a",
   "metadata": {
    "tags": []
   },
   "outputs": [],
   "source": [
    "!pip uninstall -y numpy scipy scikit-learn > {os.devnull} 2>&1\n",
    "!pip cache purge  > {os.devnull} 2>&1\n",
    "!pip install --no-cache-dir numpy scipy scikit-learn > {os.devnull} 2>&1"
   ]
  },
  {
   "cell_type": "code",
   "execution_count": 21,
   "id": "f110579a-cdc7-4ad9-bb08-1ff8fb454803",
   "metadata": {
    "tags": []
   },
   "outputs": [
    {
     "name": "stderr",
     "output_type": "stream",
     "text": [
      "/opt/conda/lib/python3.10/site-packages/feast/repo_config.py:268: DeprecationWarning: The serialization version 2 and below will be deprecated in the next release. Specifying `entity_key_serialization_version` to 3 is recommended.\n",
      "  warnings.warn(\n"
     ]
    },
    {
     "name": "stdout",
     "output_type": "stream",
     "text": [
      "Model Accuracy: 0.97\n"
     ]
    },
    {
     "data": {
      "text/plain": [
       "['feast_iris_model.bin']"
      ]
     },
     "execution_count": 21,
     "metadata": {},
     "output_type": "execute_result"
    }
   ],
   "source": [
    "# Importing dependencies\n",
    "from feast import FeatureStore\n",
    "from sklearn.model_selection import train_test_split\n",
    "from sklearn.linear_model import LogisticRegression\n",
    "from sklearn.metrics import accuracy_score\n",
    "\n",
    "from joblib import dump\n",
    "\n",
    "# Getting our FeatureStore\n",
    "store = FeatureStore(repo_path=\".\")\n",
    "\n",
    "# Retrieving the saved dataset and converting it to a DataFrame\n",
    "training_df = training_data.to_df() #store.get_saved_dataset(name=\"diabetes_dataset\").to_df()\n",
    "\n",
    "# Separating the features and labels\n",
    "y = training_df['flower_id']\n",
    "X = training_df[[\"sepal_length\", \"sepal_width\", \"petal_length\", \"petal_width\"]]\n",
    "\n",
    "# Splitting the dataset into train and test sets\n",
    "X_train, X_test, y_train, y_test = train_test_split(\n",
    "    X, y, stratify=y, random_state=42\n",
    ")\n",
    "\n",
    "# Step 6: Train Logistic Regression Model\n",
    "reg = LogisticRegression(max_iter=200)\n",
    "reg.fit(X=X_train[sorted(X_train.columns)], y=y_train)\n",
    "\n",
    "# Step 7: Predict and evaluate\n",
    "y_pred = reg.predict(X_test[sorted(X_test.columns)])\n",
    "accuracy = accuracy_score(y_test, y_pred)\n",
    "print(f\"Model Accuracy: {accuracy:.2f}\")\n",
    "\n",
    "dump(reg, \"feast_iris_model.bin\")"
   ]
  },
  {
   "cell_type": "code",
   "execution_count": null,
   "id": "b28f0f3c-d946-4a28-9263-242d5e348e85",
   "metadata": {},
   "outputs": [],
   "source": []
  },
  {
   "cell_type": "code",
   "execution_count": null,
   "id": "69ec8ca9-733e-40cd-ab19-cb4e075954c9",
   "metadata": {},
   "outputs": [],
   "source": []
  }
 ],
 "metadata": {
  "environment": {
   "kernel": "conda-base-py",
   "name": "workbench-notebooks.m130",
   "type": "gcloud",
   "uri": "us-docker.pkg.dev/deeplearning-platform-release/gcr.io/workbench-notebooks:m130"
  },
  "kernelspec": {
   "display_name": "Python 3 (ipykernel) (Local)",
   "language": "python",
   "name": "conda-base-py"
  },
  "language_info": {
   "codemirror_mode": {
    "name": "ipython",
    "version": 3
   },
   "file_extension": ".py",
   "mimetype": "text/x-python",
   "name": "python",
   "nbconvert_exporter": "python",
   "pygments_lexer": "ipython3",
   "version": "3.10.18"
  }
 },
 "nbformat": 4,
 "nbformat_minor": 5
}
